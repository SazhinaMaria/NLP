{
 "cells": [
  {
   "cell_type": "markdown",
   "id": "f728d57e",
   "metadata": {},
   "source": [
    "## Лабораторная работа №3. Классификация текстовых данных"
   ]
  },
  {
   "cell_type": "markdown",
   "id": "968d6654",
   "metadata": {},
   "source": [
    "Решить задачу классификации текстовых данных. Для векторизации текста использовать модель мешка слов/масштабирование данных при помощи tf-idf/word2vec/Glove, использовать 3 модели машинного обучения (включая нейронные сети). Выбрать лучшую комбинацию и оценить результаты. Показать на примере работу лучшей модели (на входе текст на выходе класс).\n",
    "Данные взяты отсюда https://github.com/natasha/corus#reference\n",
    "Скачать датасет https://github.com/ods-ai-ml4sg/proj_news_viz/releases/download/data/interfax.csv.gz"
   ]
  },
  {
   "cell_type": "markdown",
   "id": "a3186736",
   "metadata": {},
   "source": [
    "# Импортируем необходимые библиотеки"
   ]
  },
  {
   "cell_type": "code",
   "execution_count": 11,
   "id": "c6cd85fe",
   "metadata": {},
   "outputs": [],
   "source": [
    "import pandas as pd\n",
    "import numpy as np\n",
    "import warnings\n",
    "\n",
    "from sklearn.model_selection import train_test_split\n",
    "from sklearn.metrics import accuracy_score\n",
    "from sklearn.preprocessing import scale\n",
    "\n",
    "from gensim.models import Word2Vec\n",
    "from gensim.test.utils import get_tmpfile"
   ]
  },
  {
   "cell_type": "markdown",
   "id": "9cdec365",
   "metadata": {},
   "source": [
    "# Данные"
   ]
  },
  {
   "cell_type": "code",
   "execution_count": 2,
   "id": "f10fd999",
   "metadata": {},
   "outputs": [
    {
     "data": {
      "text/html": [
       "<div>\n",
       "<style scoped>\n",
       "    .dataframe tbody tr th:only-of-type {\n",
       "        vertical-align: middle;\n",
       "    }\n",
       "\n",
       "    .dataframe tbody tr th {\n",
       "        vertical-align: top;\n",
       "    }\n",
       "\n",
       "    .dataframe thead th {\n",
       "        text-align: right;\n",
       "    }\n",
       "</style>\n",
       "<table border=\"1\" class=\"dataframe\">\n",
       "  <thead>\n",
       "    <tr style=\"text-align: right;\">\n",
       "      <th></th>\n",
       "      <th>date</th>\n",
       "      <th>url</th>\n",
       "      <th>edition</th>\n",
       "      <th>topics</th>\n",
       "      <th>authors</th>\n",
       "      <th>title</th>\n",
       "      <th>text</th>\n",
       "      <th>reposts_fb</th>\n",
       "      <th>reposts_vk</th>\n",
       "      <th>reposts_ok</th>\n",
       "      <th>reposts_twi</th>\n",
       "      <th>reposts_lj</th>\n",
       "      <th>reposts_tg</th>\n",
       "      <th>likes</th>\n",
       "      <th>views</th>\n",
       "      <th>comm_count</th>\n",
       "    </tr>\n",
       "  </thead>\n",
       "  <tbody>\n",
       "    <tr>\n",
       "      <th>0</th>\n",
       "      <td>2019-04-30 13:26:00</td>\n",
       "      <td>https://www.sport-interfax.ru/659837</td>\n",
       "      <td>www.sport-interfax.ru</td>\n",
       "      <td>Спорт</td>\n",
       "      <td>NaN</td>\n",
       "      <td>Российского чемпиона мира по греко-римской бор...</td>\n",
       "      <td>Москва. 30 апреля. INTERFAX.RU - Чемпион мира ...</td>\n",
       "      <td>-</td>\n",
       "      <td>-</td>\n",
       "      <td>-</td>\n",
       "      <td>-</td>\n",
       "      <td>-</td>\n",
       "      <td>-</td>\n",
       "      <td>-</td>\n",
       "      <td>-</td>\n",
       "      <td>-</td>\n",
       "    </tr>\n",
       "    <tr>\n",
       "      <th>1</th>\n",
       "      <td>2019-05-07 12:46:00</td>\n",
       "      <td>https://www.sport-interfax.ru/660425</td>\n",
       "      <td>www.sport-interfax.ru</td>\n",
       "      <td>Спорт</td>\n",
       "      <td>NaN</td>\n",
       "      <td>Первый канал покажет все матчи россиян на ЧМ п...</td>\n",
       "      <td>Москва. 7 мая. INTERFAX.RU - Первый канал объя...</td>\n",
       "      <td>-</td>\n",
       "      <td>-</td>\n",
       "      <td>-</td>\n",
       "      <td>-</td>\n",
       "      <td>-</td>\n",
       "      <td>-</td>\n",
       "      <td>-</td>\n",
       "      <td>-</td>\n",
       "      <td>-</td>\n",
       "    </tr>\n",
       "    <tr>\n",
       "      <th>2</th>\n",
       "      <td>2019-05-08 12:57:00</td>\n",
       "      <td>https://www.sport-interfax.ru/660543</td>\n",
       "      <td>www.sport-interfax.ru</td>\n",
       "      <td>Спорт</td>\n",
       "      <td>NaN</td>\n",
       "      <td>Семак выразил надежду на новый контракт Кокори...</td>\n",
       "      <td>Москва. 8 мая. INTERFAX.RU - Главный тренер пе...</td>\n",
       "      <td>-</td>\n",
       "      <td>-</td>\n",
       "      <td>-</td>\n",
       "      <td>-</td>\n",
       "      <td>-</td>\n",
       "      <td>-</td>\n",
       "      <td>-</td>\n",
       "      <td>-</td>\n",
       "      <td>-</td>\n",
       "    </tr>\n",
       "    <tr>\n",
       "      <th>3</th>\n",
       "      <td>2019-05-09 00:06:00</td>\n",
       "      <td>https://www.sport-interfax.ru/660618</td>\n",
       "      <td>www.sport-interfax.ru</td>\n",
       "      <td>Спорт</td>\n",
       "      <td>NaN</td>\n",
       "      <td>\"Тоттенхэм\" стал вторым финалистом Лиги чемпионов</td>\n",
       "      <td>В финале он сыграет с другим представителем Ан...</td>\n",
       "      <td>-</td>\n",
       "      <td>-</td>\n",
       "      <td>-</td>\n",
       "      <td>-</td>\n",
       "      <td>-</td>\n",
       "      <td>-</td>\n",
       "      <td>-</td>\n",
       "      <td>-</td>\n",
       "      <td>-</td>\n",
       "    </tr>\n",
       "    <tr>\n",
       "      <th>4</th>\n",
       "      <td>2019-05-14 14:32:00</td>\n",
       "      <td>https://www.sport-interfax.ru/661091</td>\n",
       "      <td>www.sport-interfax.ru</td>\n",
       "      <td>Спорт</td>\n",
       "      <td>NaN</td>\n",
       "      <td>Претендовавшего на участие в ОИ скейтбордиста ...</td>\n",
       "      <td>Москва. 14 мая. INTERFAX.RU - Российский скейт...</td>\n",
       "      <td>-</td>\n",
       "      <td>-</td>\n",
       "      <td>-</td>\n",
       "      <td>-</td>\n",
       "      <td>-</td>\n",
       "      <td>-</td>\n",
       "      <td>-</td>\n",
       "      <td>-</td>\n",
       "      <td>-</td>\n",
       "    </tr>\n",
       "  </tbody>\n",
       "</table>\n",
       "</div>"
      ],
      "text/plain": [
       "                  date                                   url  \\\n",
       "0  2019-04-30 13:26:00  https://www.sport-interfax.ru/659837   \n",
       "1  2019-05-07 12:46:00  https://www.sport-interfax.ru/660425   \n",
       "2  2019-05-08 12:57:00  https://www.sport-interfax.ru/660543   \n",
       "3  2019-05-09 00:06:00  https://www.sport-interfax.ru/660618   \n",
       "4  2019-05-14 14:32:00  https://www.sport-interfax.ru/661091   \n",
       "\n",
       "                 edition topics authors  \\\n",
       "0  www.sport-interfax.ru  Спорт     NaN   \n",
       "1  www.sport-interfax.ru  Спорт     NaN   \n",
       "2  www.sport-interfax.ru  Спорт     NaN   \n",
       "3  www.sport-interfax.ru  Спорт     NaN   \n",
       "4  www.sport-interfax.ru  Спорт     NaN   \n",
       "\n",
       "                                               title  \\\n",
       "0  Российского чемпиона мира по греко-римской бор...   \n",
       "1  Первый канал покажет все матчи россиян на ЧМ п...   \n",
       "2  Семак выразил надежду на новый контракт Кокори...   \n",
       "3  \"Тоттенхэм\" стал вторым финалистом Лиги чемпионов   \n",
       "4  Претендовавшего на участие в ОИ скейтбордиста ...   \n",
       "\n",
       "                                                text reposts_fb reposts_vk  \\\n",
       "0  Москва. 30 апреля. INTERFAX.RU - Чемпион мира ...          -          -   \n",
       "1  Москва. 7 мая. INTERFAX.RU - Первый канал объя...          -          -   \n",
       "2  Москва. 8 мая. INTERFAX.RU - Главный тренер пе...          -          -   \n",
       "3  В финале он сыграет с другим представителем Ан...          -          -   \n",
       "4  Москва. 14 мая. INTERFAX.RU - Российский скейт...          -          -   \n",
       "\n",
       "  reposts_ok reposts_twi reposts_lj reposts_tg likes views comm_count  \n",
       "0          -           -          -          -     -     -          -  \n",
       "1          -           -          -          -     -     -          -  \n",
       "2          -           -          -          -     -     -          -  \n",
       "3          -           -          -          -     -     -          -  \n",
       "4          -           -          -          -     -     -          -  "
      ]
     },
     "execution_count": 2,
     "metadata": {},
     "output_type": "execute_result"
    }
   ],
   "source": [
    "# Получим первые 5000 значений из файла\n",
    "data = pd.read_csv(\"data/interfax.csv.gz\", nrows=5000)\n",
    "# Посмотрим на полученную таблицу\n",
    "data.head()"
   ]
  },
  {
   "cell_type": "code",
   "execution_count": 3,
   "id": "b52ba688",
   "metadata": {},
   "outputs": [],
   "source": [
    "# Извлечем из таблицы необходимые для обучения данные\n",
    "texts = data.loc[:, 'text'].values\n",
    "topics = data.loc[:, 'topics'].values"
   ]
  },
  {
   "cell_type": "markdown",
   "id": "e2b150d8",
   "metadata": {},
   "source": [
    "# Подготовим метки(y) для входных данных"
   ]
  },
  {
   "cell_type": "code",
   "execution_count": 4,
   "id": "01dc8802",
   "metadata": {},
   "outputs": [],
   "source": [
    "# Создадим словарь со всеми классами, встречающимися в файле, и пронумеруем их\n",
    "classes = {x:i for i, x in enumerate(data['topics'].unique())}\n",
    "\n",
    "# print(classes)"
   ]
  },
  {
   "cell_type": "code",
   "execution_count": 5,
   "id": "6e367c3c",
   "metadata": {},
   "outputs": [],
   "source": [
    "# Теперь переведем названия классов в цифровые значения\n",
    "y = []\n",
    "for i in topics:\n",
    "    y.append(classes[i])\n",
    "    \n",
    "# print(y)"
   ]
  },
  {
   "cell_type": "markdown",
   "id": "dbbbbd97",
   "metadata": {},
   "source": [
    "# Подготовим входные данные (X)"
   ]
  },
  {
   "cell_type": "code",
   "execution_count": 6,
   "id": "30bbfefe",
   "metadata": {},
   "outputs": [],
   "source": [
    "# создадим список с перечнем слов для каждого текста в наборе\n",
    "X = []\n",
    "for t in texts:\n",
    "    text_list = t.split(\" \")\n",
    "    X.append(text_list)\n",
    "    \n",
    "# X"
   ]
  },
  {
   "cell_type": "code",
   "execution_count": 7,
   "id": "848af058",
   "metadata": {},
   "outputs": [],
   "source": [
    "# Создаем модель Word2Vec, сохраняем\n",
    "n_dim = 300\n",
    "path = get_tmpfile(\"word2vec.model\")\n",
    "model = Word2Vec(vector_size=n_dim, window=3, min_count=3, workers=4, negative=3)\n",
    "model.build_vocab(X)\n",
    "model.save(\"word2vec.model\")"
   ]
  },
  {
   "cell_type": "code",
   "execution_count": 8,
   "id": "0e2a6855",
   "metadata": {},
   "outputs": [
    {
     "data": {
      "text/plain": [
       "(38758012, 51419750)"
      ]
     },
     "execution_count": 8,
     "metadata": {},
     "output_type": "execute_result"
    }
   ],
   "source": [
    "# Обучаем модель на всем X и нам становятся доступны векторные представления слов из X\n",
    "model = Word2Vec.load(\"word2vec.model\")\n",
    "model.train(X, total_examples=5000, epochs=50)"
   ]
  },
  {
   "cell_type": "code",
   "execution_count": 9,
   "id": "04102f62",
   "metadata": {},
   "outputs": [],
   "source": [
    "# Суммируем и нормируем все векторные представления слов из каждого текста \n",
    "# и получаем один вектор заданной размерности (300) для обучающего набора \n",
    "def buildWordVector(text, size):\n",
    "    vec = np.zeros(size).reshape((1, size))\n",
    "    count = 0\n",
    "    for word in text:\n",
    "        try:\n",
    "            vec += model.wv[word].reshape((1, size))\n",
    "            count += 1\n",
    "        except KeyError:\n",
    "            continue\n",
    "    if count != 0:\n",
    "        vec /= count\n",
    "    return vec"
   ]
  },
  {
   "cell_type": "code",
   "execution_count": 12,
   "id": "22d7f678",
   "metadata": {},
   "outputs": [],
   "source": [
    "# Создаем нормированный набор обучающих данных\n",
    "X = np.concatenate([buildWordVector(z, n_dim) for z in X])\n",
    "X = scale(X)"
   ]
  },
  {
   "cell_type": "code",
   "execution_count": 13,
   "id": "f6cc6dae",
   "metadata": {},
   "outputs": [
    {
     "data": {
      "text/plain": [
       "array([[-0.39638533,  0.92016957, -2.28049897, ..., -4.37301874,\n",
       "         1.31943326, -0.48027532],\n",
       "       [-0.99034454, -0.46867793, -1.24322244, ..., -0.08421575,\n",
       "        -1.27781018,  0.26691041],\n",
       "       [-0.20031841,  1.06420136,  0.19957478, ...,  0.90487023,\n",
       "        -0.29313403,  0.66053613],\n",
       "       ...,\n",
       "       [ 1.59655022, -0.65899073, -0.89238183, ..., -1.86271768,\n",
       "         1.9988871 ,  0.43768384],\n",
       "       [ 0.58442631,  1.31217957, -1.56141872, ..., -0.03656632,\n",
       "         0.70523244, -1.0001677 ],\n",
       "       [ 0.0261875 , -0.66193418, -0.29634517, ..., -1.0048168 ,\n",
       "         1.02994657, -1.32075636]])"
      ]
     },
     "execution_count": 13,
     "metadata": {},
     "output_type": "execute_result"
    }
   ],
   "source": [
    "X"
   ]
  },
  {
   "cell_type": "markdown",
   "id": "4595e6de",
   "metadata": {},
   "source": [
    "# Создадим обучающий и тестовый наборы данных"
   ]
  },
  {
   "cell_type": "code",
   "execution_count": 14,
   "id": "d93c4835",
   "metadata": {},
   "outputs": [],
   "source": [
    "# Разбиваем выборку на тренировочный и тестовый наборы\n",
    "seed = 256\n",
    "test_size = 0.2\n",
    "x_train, x_test, y_train, y_test = train_test_split(X, y, test_size=test_size, random_state=seed)"
   ]
  },
  {
   "cell_type": "markdown",
   "id": "00f5fba3",
   "metadata": {},
   "source": [
    "# Обучим и протестируем наши модели"
   ]
  },
  {
   "cell_type": "markdown",
   "id": "2372f086",
   "metadata": {},
   "source": [
    "# RandomForestClassifier"
   ]
  },
  {
   "cell_type": "code",
   "execution_count": 15,
   "id": "d45de0a8",
   "metadata": {},
   "outputs": [
    {
     "name": "stdout",
     "output_type": "stream",
     "text": [
      "Процент правильных ответов: 72.5\n"
     ]
    }
   ],
   "source": [
    "from sklearn.ensemble import RandomForestClassifier\n",
    "\n",
    "# Создаем модель\n",
    "forest_model = RandomForestClassifier(n_estimators=20, \n",
    "                                      criterion='entropy')\n",
    "\n",
    "# Обучаем полученную модель\n",
    "epochs = 5\n",
    "for epoch in range(epochs):\n",
    "    forest_model.fit(x_train, y_train)\n",
    "\n",
    "# Проверяем качество работы модели на тестовой выборке\n",
    "accuracy = accuracy_score(y_test,forest_model.predict(x_test))\n",
    "print(\"Процент правильных ответов:\", accuracy * 100)"
   ]
  },
  {
   "cell_type": "markdown",
   "id": "c82cea2d",
   "metadata": {},
   "source": [
    "# LinearSVC"
   ]
  },
  {
   "cell_type": "code",
   "execution_count": 16,
   "id": "15e0e419",
   "metadata": {},
   "outputs": [
    {
     "name": "stdout",
     "output_type": "stream",
     "text": [
      "Процент правильных ответов: 78.10000000000001\n"
     ]
    }
   ],
   "source": [
    "from sklearn.svm import LinearSVC\n",
    "\n",
    "# Создаем модель\n",
    "linear_svm = LinearSVC()\n",
    "\n",
    " # Обучаем полученную модель\n",
    "with warnings.catch_warnings():\n",
    "    warnings.simplefilter('ignore')\n",
    "    epochs = 5\n",
    "    for epoch in range(epochs):\n",
    "        linear_svm.fit(x_train, y_train)\n",
    "\n",
    "# Проверяем качество работы модели на тестовой выборке\n",
    "accuracy = accuracy_score(y_test, linear_svm.predict(x_test))\n",
    "print(\"Процент правильных ответов:\", accuracy * 100)"
   ]
  },
  {
   "cell_type": "markdown",
   "id": "e058dd29",
   "metadata": {},
   "source": [
    "# MLPClassifier"
   ]
  },
  {
   "cell_type": "code",
   "execution_count": 17,
   "id": "a213979d",
   "metadata": {},
   "outputs": [
    {
     "name": "stdout",
     "output_type": "stream",
     "text": [
      "Процент правильных ответов: 66.4\n"
     ]
    }
   ],
   "source": [
    "from sklearn.neural_network import MLPClassifier\n",
    "\n",
    "# Создаем модель\n",
    "mlpc = MLPClassifier(hidden_layer_sizes = (900), \n",
    "                     batch_size=10, \n",
    "                     solver='sgd',\n",
    "                     learning_rate_init = 0.025)\n",
    "\n",
    "# Обучаем полученную модель\n",
    "epochs = 5\n",
    "for epoch in range(epochs):\n",
    "    mlpc.fit(x_train, y_train)\n",
    "\n",
    "# Проверяем качество работы модели на тестовой выборке\n",
    "accuracy = accuracy_score(y_test, mlpc.predict(x_test))\n",
    "print(\"Процент правильных ответов:\", accuracy * 100)"
   ]
  },
  {
   "cell_type": "code",
   "execution_count": 23,
   "id": "040cb73d",
   "metadata": {},
   "outputs": [
    {
     "name": "stdout",
     "output_type": "stream",
     "text": [
      "[2]\n",
      "2\n"
     ]
    }
   ],
   "source": [
    "# Мы видим,что самый высокий процент правильных ответов у LinearSVC. Посмотрим пример ее работы\n",
    "\n",
    "y_pred = linear_svm.predict(x_test[0].reshape(1,-1))\n",
    "y_true = y_test[0]\n",
    "\n",
    "print(y_pred)\n",
    "print(y_true)"
   ]
  }
 ],
 "metadata": {
  "kernelspec": {
   "display_name": "Python 3",
   "language": "python",
   "name": "python3"
  },
  "language_info": {
   "codemirror_mode": {
    "name": "ipython",
    "version": 3
   },
   "file_extension": ".py",
   "mimetype": "text/x-python",
   "name": "python",
   "nbconvert_exporter": "python",
   "pygments_lexer": "ipython3",
   "version": "3.8.8"
  }
 },
 "nbformat": 4,
 "nbformat_minor": 5
}
